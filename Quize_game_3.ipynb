{
  "nbformat": 4,
  "nbformat_minor": 0,
  "metadata": {
    "colab": {
      "provenance": []
    },
    "kernelspec": {
      "name": "python3",
      "display_name": "Python 3"
    },
    "language_info": {
      "name": "python"
    }
  },
  "cells": [
    {
      "cell_type": "code",
      "execution_count": null,
      "metadata": {
        "colab": {
          "base_uri": "https://localhost:8080/"
        },
        "id": "XqMO-XG1iD0Z",
        "outputId": "1436a41c-3b5a-493a-d11a-9028bb1d3f69"
      },
      "outputs": [
        {
          "output_type": "stream",
          "name": "stdout",
          "text": [
            "Who painted the Mona Lisa? Leonardo da Vinci\n",
            "Correct!\n",
            "What is the largest planet in our solar system? juipter\n",
            "Incorrect. The correct answer is jupiter\n",
            "What is the capital city of Germany? fesf\n",
            "Incorrect. The correct answer is Berlin\n",
            "What is the capital of France? fef\n",
            "Incorrect. The correct answer is Paris\n",
            "Final score: 1\n"
          ]
        }
      ],
      "source": [
        "import random\n",
        "\n",
        "# Define the questions and answers\n",
        "questions = {\n",
        "    \"What is the capital of France?\": \"Paris\",\n",
        "    \"Who painted the Mona Lisa?\": \"Leonardo da Vinci\",\n",
        "    \"What is the largest planet in our solar system?\": \"jupiter\",\n",
        "    \"What is the capital city of Germany?\":\"Berlin\",\n",
        "\n",
        "}\n",
        "\n",
        "# Shuffle the questions\n",
        "question_order = list(questions.keys())\n",
        "random.shuffle(question_order)\n",
        "\n",
        "# Keep track of the score\n",
        "score = 0\n",
        "\n",
        "# Ask each question in a random order\n",
        "for question in question_order:\n",
        "    answer = input(question + \" \")\n",
        "    if answer.lower() == questions[question].lower():\n",
        "        print(\"Correct!\")\n",
        "        score +=1\n",
        "    else:\n",
        "        print(\"Incorrect. The correct answer is\", questions[question])\n",
        "\n",
        "# Display the final score\n",
        "print(\"Final score:\", score)"
      ]
    },
    {
      "cell_type": "code",
      "source": [],
      "metadata": {
        "id": "Vdfn46S6joMI"
      },
      "execution_count": null,
      "outputs": []
    }
  ]
}